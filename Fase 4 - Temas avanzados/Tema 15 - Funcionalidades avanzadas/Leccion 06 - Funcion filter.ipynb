{
 "cells": [
  {
   "cell_type": "markdown",
   "metadata": {},
   "source": [
    "# Función filter()"
   ]
  },
  {
   "cell_type": "code",
   "execution_count": 2,
   "metadata": {},
   "outputs": [
    {
     "data": {
      "text/plain": [
       "<filter at 0x2c256c7ca30>"
      ]
     },
     "execution_count": 2,
     "metadata": {},
     "output_type": "execute_result"
    }
   ],
   "source": [
    "numeros=[2,5,10,23,50,33,98]\n",
    "\n",
    "def multiple(numero):\n",
    "    if numero %5==0:\n",
    "        return True\n",
    "\n",
    "filter(multiple,numeros)"
   ]
  },
  {
   "cell_type": "code",
   "execution_count": 3,
   "metadata": {},
   "outputs": [
    {
     "data": {
      "text/plain": [
       "[5, 10, 50]"
      ]
     },
     "execution_count": 3,
     "metadata": {},
     "output_type": "execute_result"
    }
   ],
   "source": [
    "list(filter(multiple,numeros))"
   ]
  },
  {
   "cell_type": "markdown",
   "metadata": {},
   "source": [
    "No hay necesidad de definir una nueva funcion usando las funciones lambda"
   ]
  },
  {
   "cell_type": "code",
   "execution_count": 4,
   "metadata": {},
   "outputs": [
    {
     "data": {
      "text/plain": [
       "[5, 10, 50]"
      ]
     },
     "execution_count": 4,
     "metadata": {},
     "output_type": "execute_result"
    }
   ],
   "source": [
    "list(filter(lambda numero: numero%5==0,numeros))"
   ]
  },
  {
   "cell_type": "code",
   "execution_count": 10,
   "metadata": {},
   "outputs": [
    {
     "data": {
      "text/plain": [
       "[<__main__.Persona at 0x2c25a1e5350>,\n",
       " <__main__.Persona at 0x2c25a1e69d0>,\n",
       " <__main__.Persona at 0x2c25a1e62d0>,\n",
       " <__main__.Persona at 0x2c25a1e5210>]"
      ]
     },
     "execution_count": 10,
     "metadata": {},
     "output_type": "execute_result"
    }
   ],
   "source": [
    "class Persona:\n",
    "    def __init__(self,nombre,edad):\n",
    "        self.nombre=nombre\n",
    "        self.edad=edad\n",
    "\n",
    "    def __str__(self):\n",
    "        return \"{} de {} años\".format(self.nombre,self.edad)\n",
    "\n",
    "personas=[\n",
    "    Persona(\"Juan\",35),\n",
    "    Persona(\"Marta\",16),\n",
    "    Persona(\"Pedro\",39),\n",
    "    Persona(\"Eduardo\",12)\n",
    "]\n",
    "\n",
    "personas"
   ]
  },
  {
   "cell_type": "code",
   "execution_count": 11,
   "metadata": {},
   "outputs": [],
   "source": [
    "menores=filter(lambda persona: persona.edad<18,personas)"
   ]
  },
  {
   "cell_type": "code",
   "execution_count": 12,
   "metadata": {},
   "outputs": [
    {
     "name": "stdout",
     "output_type": "stream",
     "text": [
      "Marta de 16 años\n",
      "Eduardo de 12 años\n"
     ]
    }
   ],
   "source": [
    "for menor in menores:\n",
    "    print(menor)"
   ]
  },
  {
   "cell_type": "code",
   "execution_count": null,
   "metadata": {},
   "outputs": [],
   "source": []
  }
 ],
 "metadata": {
  "anaconda-cloud": {},
  "kernelspec": {
   "display_name": "Python [conda env:base] *",
   "language": "python",
   "name": "conda-base-py"
  },
  "language_info": {
   "codemirror_mode": {
    "name": "ipython",
    "version": 3
   },
   "file_extension": ".py",
   "mimetype": "text/x-python",
   "name": "python",
   "nbconvert_exporter": "python",
   "pygments_lexer": "ipython3",
   "version": "3.11.5"
  }
 },
 "nbformat": 4,
 "nbformat_minor": 4
}
