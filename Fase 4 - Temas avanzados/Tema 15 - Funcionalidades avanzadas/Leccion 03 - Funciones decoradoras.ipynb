{
 "cells": [
  {
   "cell_type": "markdown",
   "metadata": {},
   "source": [
    "# Ámbitos y funciones decoradoras"
   ]
  },
  {
   "cell_type": "markdown",
   "metadata": {},
   "source": [
    "#### NOTA: Antes de realizar esta lección debes reiniciar Jupyter Notebook para vaciar la memoria."
   ]
  },
  {
   "cell_type": "code",
   "execution_count": 1,
   "metadata": {},
   "outputs": [],
   "source": [
    "def hola():\n",
    "    def bienvenido():\n",
    "        return \"Hola!\"\n",
    "    return bienvenido"
   ]
  },
  {
   "cell_type": "code",
   "execution_count": 2,
   "metadata": {},
   "outputs": [
    {
     "ename": "NameError",
     "evalue": "name 'bienvenido' is not defined",
     "output_type": "error",
     "traceback": [
      "\u001b[1;31m---------------------------------------------------------------------------\u001b[0m",
      "\u001b[1;31mNameError\u001b[0m                                 Traceback (most recent call last)",
      "Cell \u001b[1;32mIn[2], line 1\u001b[0m\n\u001b[1;32m----> 1\u001b[0m bienvenido()\n",
      "\u001b[1;31mNameError\u001b[0m: name 'bienvenido' is not defined"
     ]
    }
   ],
   "source": [
    "bienvenido()"
   ]
  },
  {
   "cell_type": "code",
   "execution_count": 3,
   "metadata": {},
   "outputs": [
    {
     "data": {
      "text/plain": [
       "<function __main__.hola.<locals>.bienvenido()>"
      ]
     },
     "execution_count": 3,
     "metadata": {},
     "output_type": "execute_result"
    }
   ],
   "source": [
    "hola()"
   ]
  },
  {
   "cell_type": "code",
   "execution_count": 5,
   "metadata": {},
   "outputs": [
    {
     "name": "stdout",
     "output_type": "stream",
     "text": [
      "{'bienvenido': <function hola.<locals>.bienvenido at 0x000001F26EE411C0>}\n"
     ]
    },
    {
     "data": {
      "text/plain": [
       "<function __main__.hola.<locals>.bienvenido()>"
      ]
     },
     "execution_count": 5,
     "metadata": {},
     "output_type": "execute_result"
    }
   ],
   "source": [
    "def hola():\n",
    "    def bienvenido():\n",
    "        return \"Hola!\"\n",
    "\n",
    "    print(locals())\n",
    "    return bienvenido\n",
    "\n",
    "hola()"
   ]
  },
  {
   "cell_type": "code",
   "execution_count": 1,
   "metadata": {},
   "outputs": [
    {
     "data": {
      "text/plain": [
       "'Hola!'"
      ]
     },
     "execution_count": 1,
     "metadata": {},
     "output_type": "execute_result"
    }
   ],
   "source": [
    "def hola():\n",
    "    def bienvenido():\n",
    "        return \"Hola!\"\n",
    "\n",
    "    return bienvenido\n",
    "\n",
    "hola()()"
   ]
  },
  {
   "cell_type": "code",
   "execution_count": 2,
   "metadata": {},
   "outputs": [
    {
     "data": {
      "text/plain": [
       "'Hola!'"
      ]
     },
     "execution_count": 2,
     "metadata": {},
     "output_type": "execute_result"
    }
   ],
   "source": [
    "bienvenido=hola()\n",
    "bienvenido()"
   ]
  },
  {
   "cell_type": "code",
   "execution_count": 3,
   "metadata": {},
   "outputs": [],
   "source": [
    "del(hola)"
   ]
  },
  {
   "cell_type": "code",
   "execution_count": 4,
   "metadata": {},
   "outputs": [
    {
     "data": {
      "text/plain": [
       "'Hola!'"
      ]
     },
     "execution_count": 4,
     "metadata": {},
     "output_type": "execute_result"
    }
   ],
   "source": [
    "bienvenido()"
   ]
  },
  {
   "cell_type": "code",
   "execution_count": 5,
   "metadata": {},
   "outputs": [
    {
     "name": "stdout",
     "output_type": "stream",
     "text": [
      "Hola!\n"
     ]
    }
   ],
   "source": [
    "def hola():\n",
    "    return \"Hola!\"\n",
    "\n",
    "def test(function):\n",
    "    print(function())\n",
    "\n",
    "test(hola)"
   ]
  },
  {
   "cell_type": "code",
   "execution_count": 6,
   "metadata": {},
   "outputs": [],
   "source": [
    "def hola():\n",
    "    print(\"Hola!\")\n",
    "\n",
    "def adios():\n",
    "    print(\"Adios!\")\n",
    "    "
   ]
  },
  {
   "cell_type": "code",
   "execution_count": 10,
   "metadata": {},
   "outputs": [],
   "source": [
    "def monitorizar(funcion):\n",
    "    def decorar():\n",
    "        print(\"\\t Se esta a punto de ejecutar la funcion: \",funcion.__name__)\n",
    "\n",
    "        funcion()\n",
    "\n",
    "        print(\"\\t Se ha finalizado la ejecucion de la funcion: \",funcion.__name__)\n",
    "\n",
    "    return decorar\n",
    "\n"
   ]
  },
  {
   "cell_type": "code",
   "execution_count": 11,
   "metadata": {},
   "outputs": [
    {
     "data": {
      "text/plain": [
       "<function __main__.monitorizar.<locals>.decorar()>"
      ]
     },
     "execution_count": 11,
     "metadata": {},
     "output_type": "execute_result"
    }
   ],
   "source": [
    "monitorizar(hola)"
   ]
  },
  {
   "cell_type": "code",
   "execution_count": 12,
   "metadata": {},
   "outputs": [
    {
     "name": "stdout",
     "output_type": "stream",
     "text": [
      "\t Se esta a punto de ejecutar la funcion:  hola\n",
      "Hola!\n",
      "\t Se ha finalizado la ejecucion de la funcion:  hola\n"
     ]
    }
   ],
   "source": [
    "monitorizar(hola)()"
   ]
  },
  {
   "cell_type": "code",
   "execution_count": 13,
   "metadata": {},
   "outputs": [],
   "source": [
    "@monitorizar\n",
    "def hola():\n",
    "    print(\"Hola!\")\n",
    "\n",
    "@monitorizar\n",
    "def adios():\n",
    "    print(\"Adios!\")\n",
    "    "
   ]
  },
  {
   "cell_type": "code",
   "execution_count": 14,
   "metadata": {},
   "outputs": [
    {
     "name": "stdout",
     "output_type": "stream",
     "text": [
      "\t Se esta a punto de ejecutar la funcion:  hola\n",
      "Hola!\n",
      "\t Se ha finalizado la ejecucion de la funcion:  hola\n"
     ]
    }
   ],
   "source": [
    "hola()"
   ]
  },
  {
   "cell_type": "code",
   "execution_count": 16,
   "metadata": {},
   "outputs": [
    {
     "name": "stdout",
     "output_type": "stream",
     "text": [
      "\t Se esta a punto de ejecutar la funcion:  saludar\n",
      "Buenos dias!\n",
      "\t Se ha finalizado la ejecucion de la funcion:  saludar\n"
     ]
    }
   ],
   "source": [
    "@monitorizar\n",
    "def saludar():\n",
    "    print(\"Buenos dias!\")\n",
    "\n",
    "saludar()"
   ]
  },
  {
   "cell_type": "code",
   "execution_count": 17,
   "metadata": {},
   "outputs": [
    {
     "ename": "TypeError",
     "evalue": "monitorizar.<locals>.decorar() takes 0 positional arguments but 1 was given",
     "output_type": "error",
     "traceback": [
      "\u001b[1;31m---------------------------------------------------------------------------\u001b[0m",
      "\u001b[1;31mTypeError\u001b[0m                                 Traceback (most recent call last)",
      "Cell \u001b[1;32mIn[17], line 5\u001b[0m\n\u001b[0;32m      1\u001b[0m \u001b[38;5;129m@monitorizar\u001b[39m\n\u001b[0;32m      2\u001b[0m \u001b[38;5;28;01mdef\u001b[39;00m \u001b[38;5;21msaludar\u001b[39m(texto):\n\u001b[0;32m      3\u001b[0m     \u001b[38;5;28mprint\u001b[39m(texto)\n\u001b[1;32m----> 5\u001b[0m saludar(\u001b[38;5;124m\"\u001b[39m\u001b[38;5;124mHola\u001b[39m\u001b[38;5;124m\"\u001b[39m)\n",
      "\u001b[1;31mTypeError\u001b[0m: monitorizar.<locals>.decorar() takes 0 positional arguments but 1 was given"
     ]
    }
   ],
   "source": [
    "@monitorizar\n",
    "def saludar(texto):\n",
    "    print(texto)\n",
    "\n",
    "saludar(\"Hola\")"
   ]
  },
  {
   "cell_type": "code",
   "execution_count": 18,
   "metadata": {},
   "outputs": [],
   "source": [
    "def monitorizar_args(funcion):\n",
    "    def decorar(*args,**kwargs):\n",
    "        print(\"\\t Se esta a punto de ejecutar la funcion: \",funcion.__name__)\n",
    "\n",
    "        funcion(*args,**kwargs)\n",
    "\n",
    "        print(\"\\t Se ha finalizado la ejecucion de la funcion: \",funcion.__name__)\n",
    "\n",
    "    return decorar\n"
   ]
  },
  {
   "cell_type": "code",
   "execution_count": 19,
   "metadata": {},
   "outputs": [],
   "source": [
    "@monitorizar_args\n",
    "def hola(nombre):\n",
    "    print(\"Hola {}!\".format(nombre))\n",
    "\n",
    "@monitorizar_args\n",
    "def adios(nombre):\n",
    "    print(\"Adios {}!\".format(nombre))"
   ]
  },
  {
   "cell_type": "code",
   "execution_count": 20,
   "metadata": {},
   "outputs": [
    {
     "name": "stdout",
     "output_type": "stream",
     "text": [
      "\t Se esta a punto de ejecutar la funcion:  hola\n",
      "Hola Hector!\n",
      "\t Se ha finalizado la ejecucion de la funcion:  hola\n"
     ]
    }
   ],
   "source": [
    "hola(\"Hector\")"
   ]
  },
  {
   "cell_type": "code",
   "execution_count": null,
   "metadata": {},
   "outputs": [],
   "source": []
  }
 ],
 "metadata": {
  "anaconda-cloud": {},
  "kernelspec": {
   "display_name": "Python [conda env:base] *",
   "language": "python",
   "name": "conda-base-py"
  },
  "language_info": {
   "codemirror_mode": {
    "name": "ipython",
    "version": 3
   },
   "file_extension": ".py",
   "mimetype": "text/x-python",
   "name": "python",
   "nbconvert_exporter": "python",
   "pygments_lexer": "ipython3",
   "version": "3.11.5"
  }
 },
 "nbformat": 4,
 "nbformat_minor": 4
}
