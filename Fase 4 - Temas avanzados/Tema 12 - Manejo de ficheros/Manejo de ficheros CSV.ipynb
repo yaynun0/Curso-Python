{
 "cells": [
  {
   "cell_type": "code",
   "execution_count": 1,
   "id": "04fc0669-3da5-40d7-837c-4b61e443c4a3",
   "metadata": {},
   "outputs": [],
   "source": [
    "import csv"
   ]
  },
  {
   "cell_type": "code",
   "execution_count": 2,
   "id": "1205c0e8-3f96-42f5-a9e6-227d8d388804",
   "metadata": {},
   "outputs": [],
   "source": [
    "contactos = [\n",
    "    (\"Manuel\", \"Desarrollador Web\", \"manuel@ejemplo.com\"),\n",
    "    (\"Lorena\", \"Gestora de proyectos\", \"lorena@ejemplo.com\"),\n",
    "    (\"Javier\", \"Analista de datos\", \"javier@ejemplo.com\"),\n",
    "    (\"Marta\", \"Experta en Python\", \"marta@ejemplo.com\")\n",
    "]"
   ]
  },
  {
   "cell_type": "code",
   "execution_count": 3,
   "id": "6679199b-0a05-445d-81f7-04b912f383e4",
   "metadata": {},
   "outputs": [],
   "source": [
    "with open(\"contactos.csv\",\"w\",newline=\"\\n\") as csvfile:\n",
    "    writer=csv.writer(csvfile,delimiter=\",\")\n",
    "    for contacto in contactos:\n",
    "        writer.writerow(contacto)"
   ]
  },
  {
   "cell_type": "code",
   "execution_count": 4,
   "id": "bd1cbb0d-e09b-41d0-8822-bcc48835bd0a",
   "metadata": {},
   "outputs": [
    {
     "name": "stdout",
     "output_type": "stream",
     "text": [
      "['Manuel', 'Desarrollador Web', 'manuel@ejemplo.com']\n",
      "['Lorena', 'Gestora de proyectos', 'lorena@ejemplo.com']\n",
      "['Javier', 'Analista de datos', 'javier@ejemplo.com']\n",
      "['Marta', 'Experta en Python', 'marta@ejemplo.com']\n"
     ]
    }
   ],
   "source": [
    "with open(\"contactos.csv\",newline=\"\\n\") as csvfile:\n",
    "    reader=csv.reader(csvfile,delimiter=\",\")\n",
    "    for contacto in reader:\n",
    "        print(contacto)"
   ]
  },
  {
   "cell_type": "code",
   "execution_count": 5,
   "id": "04470ad8-e806-4521-897a-a48753a40098",
   "metadata": {},
   "outputs": [],
   "source": [
    "contactos = [\n",
    "    (\"Manuel\", \"Desarrollador Web\", \"manuel@ejemplo.com\"),\n",
    "    (\"Lorena\", \"Gestora de proyectos\", \"lorena@ejemplo.com\"),\n",
    "    (\"Javier\", \"Analista de datos\", \"javier@ejemplo.com\"),\n",
    "    (\"Marta\", \"Experta en Python\", \"marta@ejemplo.com\")\n",
    "]"
   ]
  },
  {
   "cell_type": "code",
   "execution_count": 9,
   "id": "39152fce-7abd-496e-b860-160fc99e20d5",
   "metadata": {},
   "outputs": [],
   "source": [
    "with open(\"contactos.csv\",\"w\",newline=\"\\n\") as csvfile:\n",
    "    campos=[\"nombre\",\"empleo\",\"email\"]\n",
    "    writer=csv.DictWriter(csvfile,fieldnames=campos)\n",
    "    writer.writeheader()\n",
    "    for nombre, empleo, email in contactos:\n",
    "        writer.writerow({\"nombre\":nombre,\"empleo\":empleo,\"email\":email})"
   ]
  },
  {
   "cell_type": "code",
   "execution_count": 10,
   "id": "6b1aed1e-2aee-438f-b3b2-b0fd59b25523",
   "metadata": {},
   "outputs": [
    {
     "name": "stdout",
     "output_type": "stream",
     "text": [
      "Manuel Desarrollador Web manuel@ejemplo.com\n",
      "Lorena Gestora de proyectos lorena@ejemplo.com\n",
      "Javier Analista de datos javier@ejemplo.com\n",
      "Marta Experta en Python marta@ejemplo.com\n"
     ]
    }
   ],
   "source": [
    "with open(\"contactos.csv\",newline=\"\\n\") as csvfile:\n",
    "    reader=csv.DictReader(csvfile)\n",
    "    for contacto in reader:\n",
    "        print(contacto[\"nombre\"],contacto[\"empleo\"],contacto[\"email\"])"
   ]
  },
  {
   "cell_type": "code",
   "execution_count": 11,
   "id": "cfbc054a-b91f-4798-9023-496a0edd7481",
   "metadata": {},
   "outputs": [],
   "source": [
    "datos={}\n",
    "datos[\"r\"]=1"
   ]
  },
  {
   "cell_type": "code",
   "execution_count": 12,
   "id": "90065a46-8c8e-42f2-8844-62dec8586c26",
   "metadata": {},
   "outputs": [
    {
     "data": {
      "text/plain": [
       "{'r': 1}"
      ]
     },
     "execution_count": 12,
     "metadata": {},
     "output_type": "execute_result"
    }
   ],
   "source": [
    "datos"
   ]
  },
  {
   "cell_type": "code",
   "execution_count": 13,
   "id": "10dabac4-235e-4525-b963-c5fb430f3193",
   "metadata": {},
   "outputs": [],
   "source": [
    "datos[\"b\"]=2\n"
   ]
  },
  {
   "cell_type": "code",
   "execution_count": null,
   "id": "adef61bc-6094-4ab5-9b58-f046e66c25a4",
   "metadata": {},
   "outputs": [],
   "source": []
  },
  {
   "cell_type": "code",
   "execution_count": 14,
   "id": "ee346ff4-723d-4892-9a60-11a6b96b7230",
   "metadata": {},
   "outputs": [
    {
     "data": {
      "text/plain": [
       "{'r': 1, 'b': 2}"
      ]
     },
     "execution_count": 14,
     "metadata": {},
     "output_type": "execute_result"
    }
   ],
   "source": [
    "datos\n"
   ]
  },
  {
   "cell_type": "code",
   "execution_count": 15,
   "id": "c1929030-5129-4793-90db-8ec07afff9ce",
   "metadata": {},
   "outputs": [],
   "source": [
    "datos[\"r\"]=2"
   ]
  },
  {
   "cell_type": "code",
   "execution_count": 16,
   "id": "fee1c04f-9ba2-4221-bea9-a885fb8cb003",
   "metadata": {},
   "outputs": [
    {
     "data": {
      "text/plain": [
       "{'r': 2, 'b': 2}"
      ]
     },
     "execution_count": 16,
     "metadata": {},
     "output_type": "execute_result"
    }
   ],
   "source": [
    "datos"
   ]
  },
  {
   "cell_type": "code",
   "execution_count": null,
   "id": "6ffd9153-55da-4c23-9ff1-78b831be9cf6",
   "metadata": {},
   "outputs": [],
   "source": []
  }
 ],
 "metadata": {
  "kernelspec": {
   "display_name": "Python [conda env:base] *",
   "language": "python",
   "name": "conda-base-py"
  },
  "language_info": {
   "codemirror_mode": {
    "name": "ipython",
    "version": 3
   },
   "file_extension": ".py",
   "mimetype": "text/x-python",
   "name": "python",
   "nbconvert_exporter": "python",
   "pygments_lexer": "ipython3",
   "version": "3.11.5"
  }
 },
 "nbformat": 4,
 "nbformat_minor": 5
}
